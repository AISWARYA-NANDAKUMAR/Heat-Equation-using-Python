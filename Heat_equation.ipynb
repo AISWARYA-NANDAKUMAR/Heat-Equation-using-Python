{
  "nbformat": 4,
  "nbformat_minor": 0,
  "metadata": {
    "colab": {
      "name": "Heat equation",
      "provenance": [],
      "collapsed_sections": []
    },
    "kernelspec": {
      "name": "python3",
      "display_name": "Python 3"
    },
    "language_info": {
      "name": "python"
    },
    "accelerator": "GPU"
  },
  "cells": [
    {
      "cell_type": "code",
      "metadata": {
        "id": "nsyVX2JoL2l8"
      },
      "source": [
        "# We use numpy (for array related operations) and matplotlib (for plotting) \n",
        "import numpy as np\n",
        "import matplotlib.pyplot as plt\n",
        "#matplotlib.animation can be used for animating the plots\n",
        "import matplotlib.animation as animation\n",
        "from matplotlib.animation import FuncAnimation\n",
        "\n",
        "\n",
        "plate_length = 100\n",
        "max_iter_time = 1000\n",
        "\n",
        "alpha = 2.0\n",
        "delta_x = 1\n",
        "\n",
        "# Calculated params\n",
        "delta_t = (delta_x ** 2)/(4 * alpha)\n",
        "gamma = (alpha * delta_t) / (delta_x ** 2)\n",
        "\n",
        "# Initialize solution: the grid of u(k, i, j)\n",
        "u = np.empty((max_iter_time, plate_length, plate_length))\n",
        "\n",
        "# Initial condition everywhere inside the grid\n",
        "u_initial = 500\n",
        "\n",
        "# Boundary conditions (fixed temperature)\n",
        "u_top = 900.0\n",
        "u_left = 200.0\n",
        "u_bottom = 300.0\n",
        "u_right = 600.0\n",
        "\n",
        "# Set the initial condition\n",
        "u.fill(u_initial)\n",
        "\n",
        "# Set the boundary conditions\n",
        "u[:, (plate_length-1):, :] = u_top\n",
        "u[:, :, :1] = u_left\n",
        "u[:, :1, 1:] = u_bottom\n",
        "u[:, :, (plate_length-1):] = u_right"
      ],
      "execution_count": null,
      "outputs": []
    },
    {
      "cell_type": "code",
      "metadata": {
        "id": "KyOW8oiRL79F"
      },
      "source": [
        "def calculate(u):\n",
        "  for k in range(0, max_iter_time-1, 1):\n",
        "    for i in range(1, plate_length-1, delta_x):\n",
        "      for j in range(1, plate_length-1, delta_x):\n",
        "        u[k + 1, i, j] = gamma * (u[k][i+1][j] + u[k][i-1][j] + u[k][i][j+1] + u[k][i][j-1] - 4*u[k][i][j]) + u[k][i][j]\n",
        "  return u"
      ],
      "execution_count": null,
      "outputs": []
    },
    {
      "cell_type": "code",
      "metadata": {
        "id": "R9NPBQeHL-Q8"
      },
      "source": [
        "def plotheatmap(u_k, k):\n",
        "  # Clear the current plot figure\n",
        "  plt.clf()\n",
        "  plt.title(f\"Temperature at t = {k*delta_t:.3f} unit time\")\n",
        "  plt.xlabel(\"x\")\n",
        "  plt.ylabel(\"y\")\n",
        "  \n",
        "  # This is to plot u_k (u at time-step k)\n",
        "  plt.pcolormesh(u_k, cmap=plt.cm.jet, vmin=0, vmax=900)\n",
        "  plt.colorbar()\n",
        "  \n",
        "  return plt"
      ],
      "execution_count": null,
      "outputs": []
    },
    {
      "cell_type": "code",
      "metadata": {
        "id": "qQn581k8MfuV"
      },
      "source": [
        "u = calculate(u)"
      ],
      "execution_count": null,
      "outputs": []
    },
    {
      "cell_type": "code",
      "metadata": {
        "colab": {
          "base_uri": "https://localhost:8080/",
          "height": 312
        },
        "id": "3KTAKK3hMhwc",
        "outputId": "7672e19f-b6f8-496e-9cfd-1ee4225b910d"
      },
      "source": [
        "k=999\n",
        "plotheatmap(u[k], k)"
      ],
      "execution_count": null,
      "outputs": [
        {
          "output_type": "execute_result",
          "data": {
            "text/plain": [
              "<module 'matplotlib.pyplot' from '/usr/local/lib/python3.7/dist-packages/matplotlib/pyplot.py'>"
            ]
          },
          "metadata": {
            "tags": []
          },
          "execution_count": 82
        },
        {
          "output_type": "display_data",
          "data": {
            "image/png": "[encoded data removed]",
            "text/plain": [
              "<Figure size 432x288 with 2 Axes>"
            ]
          },
          "metadata": {
            "tags": [],
            "needs_background": "light"
          }
        }
      ]
    },
    {
      "cell_type": "code",
      "metadata": {
        "colab": {
          "base_uri": "https://localhost:8080/",
          "height": 295
        },
        "id": "08WQNn7FNO5n",
        "outputId": "30a9f2fa-cd41-40cd-c3a1-50d967cad4f3"
      },
      "source": [
        "from matplotlib.animation import FuncAnimation, PillowWriter \n",
        "\n",
        "def animate(k):\n",
        "  plotheatmap(u[k], k)\n",
        "\n",
        "anim = animation.FuncAnimation(plt.figure(), animate, interval=1, frames=max_iter_time, repeat=False)\n",
        "# anim.save(\"heat_equation_solution.gif\")\n",
        "anim.save(\"test.mp4\")"
      ],
      "execution_count": null,
      "outputs": [
        {
          "output_type": "display_data",
          "data": {
            "image/png": "[encoded data removed]",
            "text/plain": [
              "<Figure size 432x288 with 2 Axes>"
            ]
          },
          "metadata": {
            "tags": [],
            "needs_background": "light"
          }
        }
      ]
    },
    {
      "cell_type": "code",
      "metadata": {
        "id": "jFaIQHgjRfCo"
      },
      "source": [
        ""
      ],
      "execution_count": null,
      "outputs": []
    }
  ]
}